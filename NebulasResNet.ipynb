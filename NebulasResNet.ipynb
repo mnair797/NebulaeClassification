{
  "nbformat": 4,
  "nbformat_minor": 0,
  "metadata": {
    "colab": {
      "name": "NebulasResNet.ipynb",
      "provenance": [],
      "collapsed_sections": []
    },
    "kernelspec": {
      "display_name": "Python 3",
      "name": "python3"
    },
    "language_info": {
      "name": "python"
    },
    "accelerator": "GPU"
  },
  "cells": [
    {
      "cell_type": "code",
      "metadata": {
        "id": "Bf2Phbzjo9mX"
      },
      "source": [
        "# Import packages needed to create a imaage classification model\n",
        "import matplotlib.pyplot as plt\n",
        "import numpy as np\n",
        "import os\n",
        "import tensorflow as tf\n",
        "\n",
        "from keras.applications.resnet import preprocess_input\n",
        "from keras.preprocessing.image import ImageDataGenerator\n",
        "from keras.layers import Dense,GlobalAveragePooling2D\n",
        "from keras.models import Model"
      ],
      "execution_count": null,
      "outputs": []
    },
    {
      "cell_type": "code",
      "metadata": {
        "colab": {
          "base_uri": "https://localhost:8080/"
        },
        "id": "Zphu1Jw1pTiz",
        "outputId": "2279f4b7-3e51-49b5-cd40-7d49e2c03937"
      },
      "source": [
        "from google.colab import drive\n",
        "drive.mount('/content/drive')"
      ],
      "execution_count": null,
      "outputs": [
        {
          "output_type": "stream",
          "name": "stdout",
          "text": [
            "Mounted at /content/drive\n"
          ]
        }
      ]
    },
    {
      "cell_type": "code",
      "metadata": {
        "id": "O42wSMPQpWLk"
      },
      "source": [
        "# Please replace the brackets below with the drive location of your folder which included subfolders for images\n",
        "# Sample path: /content/drive/My Drive/ImageClassification\n",
        "PATH = '/content/drive/My Drive/NebulasWithoutDarkReflection'"
      ],
      "execution_count": null,
      "outputs": []
    },
    {
      "cell_type": "code",
      "metadata": {
        "colab": {
          "base_uri": "https://localhost:8080/"
        },
        "id": "U1vpF83po_hZ",
        "outputId": "c669c62c-a95a-488a-a865-333de1f89186"
      },
      "source": [
        "from tensorflow.keras.preprocessing import image_dataset_from_directory\n",
        "# Link from which the dataset is downloaded\n",
        "\n",
        "train_dir = os.path.join(PATH)\n",
        "validation_dir = os.path.join(PATH)\n",
        "\n",
        "BATCH_SIZE = 45\n",
        "IMG_SIZE = (160, 160)\n",
        "\n",
        "train_dataset = image_dataset_from_directory(train_dir, \n",
        "                                             shuffle=True,\n",
        "                                             batch_size=BATCH_SIZE,\n",
        "                                             image_size=IMG_SIZE)"
      ],
      "execution_count": null,
      "outputs": [
        {
          "output_type": "stream",
          "name": "stdout",
          "text": [
            "Found 232 files belonging to 3 classes.\n"
          ]
        }
      ]
    },
    {
      "cell_type": "code",
      "metadata": {
        "colab": {
          "base_uri": "https://localhost:8080/"
        },
        "id": "qBRyM4HwpGmG",
        "outputId": "3e82ec75-f5af-4729-9d89-21e984523274"
      },
      "source": [
        "# Create the data generation pipeline for training and validation\n",
        "train_datagen = ImageDataGenerator(preprocessing_function=preprocess_input, validation_split=0.2) # set validation split\n",
        "\n",
        "\n",
        "\n",
        "\n",
        "train_generator = train_datagen.flow_from_directory(PATH, \n",
        "                                                 target_size=IMG_SIZE,\n",
        "                                                 color_mode='rgb',\n",
        "                                                 batch_size=BATCH_SIZE,\n",
        "                                                 class_mode='categorical',\n",
        "                                                 shuffle=True,\n",
        "                                                  subset = 'training')\n",
        "validation_generator = train_datagen.flow_from_directory(PATH,\n",
        "                                                 target_size=IMG_SIZE,\n",
        "                                                 color_mode='rgb',\n",
        "                                                 batch_size=BATCH_SIZE,\n",
        "                                                 class_mode='categorical',\n",
        "                                                 shuffle=False,\n",
        "                                                  subset = 'validation')"
      ],
      "execution_count": null,
      "outputs": [
        {
          "output_type": "stream",
          "name": "stdout",
          "text": [
            "Found 187 images belonging to 3 classes.\n",
            "Found 45 images belonging to 3 classes.\n"
          ]
        }
      ]
    },
    {
      "cell_type": "code",
      "metadata": {
        "colab": {
          "base_uri": "https://localhost:8080/"
        },
        "id": "GLggSje6pIOD",
        "outputId": "dd68d637-dc02-4b94-f53b-19b8225707a6"
      },
      "source": [
        "# Download the efs model\n",
        "base_model = tf.keras.applications.resnet_v2.ResNet50V2(input_shape=(224, 224, 3), include_top=False, weights='imagenet')\n",
        "#resnet50.ResNet50(input_shape=(224, 224, 3), include_top=False, weights='imagenet')\n",
        "for layer in base_model.layers:\n",
        "  layer.trainable=False\n",
        "  \n",
        "\"\"\"\n",
        "# or if we want to set the first 20 layers of the network to be non-trainable\n",
        "for layer in base_model.layers[:185]:\n",
        "    layer.trainable=False\n",
        "for layer in base_model.layers[185:]:\n",
        "    layer.trainable=True\n",
        "\"\"\"\n",
        "\n",
        "# Specify the number of classes\n",
        "# This is again hardcoded for this experiment\n",
        "num_classes = 3\n",
        "\n",
        "# Create the base model\n",
        "model = create_model(base_model,num_classes)\n",
        "\n",
        "print(len(base_model.layers))\n"
      ],
      "execution_count": null,
      "outputs": [
        {
          "output_type": "stream",
          "name": "stdout",
          "text": [
            "190\n"
          ]
        }
      ]
    },
    {
      "cell_type": "code",
      "metadata": {
        "colab": {
          "base_uri": "https://localhost:8080/"
        },
        "id": "AVCirfNUpMgJ",
        "outputId": "be7abbf3-8464-4a7f-8834-a4759d63486c"
      },
      "source": [
        "base_learning_rate = 0.001 #decrease for different results; use excel sheet to note down results from each change to learning rate and epochs\n",
        "opt = tf.optimizers.Adam(learning_rate=base_learning_rate)\n",
        "model.compile(optimizer=opt,loss='categorical_crossentropy',metrics=['accuracy'])\n",
        "# Adam optimizer\n",
        "# loss function will be categorical cross entropy\n",
        "# evaluation metric will be accuracy\n",
        "\n",
        "step_size_train=train_generator.n//train_generator.batch_size\n",
        "history_fine = model.fit(train_generator,\n",
        "                         steps_per_epoch=step_size_train,\n",
        "                         epochs=50, #<-- increase for higher accuracy\n",
        "                         validation_data = validation_generator)"
      ],
      "execution_count": null,
      "outputs": [
        {
          "output_type": "stream",
          "name": "stdout",
          "text": [
            "Epoch 1/50\n",
            "4/4 [==============================] - 10s 2s/step - loss: 268.0345 - accuracy: 0.4778 - val_loss: 134.7354 - val_accuracy: 0.3556\n",
            "Epoch 2/50\n",
            "4/4 [==============================] - 6s 1s/step - loss: 138.9775 - accuracy: 0.4085 - val_loss: 19.0081 - val_accuracy: 0.6222\n",
            "Epoch 3/50\n",
            "4/4 [==============================] - 6s 2s/step - loss: 111.6407 - accuracy: 0.6127 - val_loss: 83.2561 - val_accuracy: 0.4444\n",
            "Epoch 4/50\n",
            "4/4 [==============================] - 6s 2s/step - loss: 44.0038 - accuracy: 0.6444 - val_loss: 84.4555 - val_accuracy: 0.4667\n",
            "Epoch 5/50\n",
            "4/4 [==============================] - 6s 2s/step - loss: 42.8770 - accuracy: 0.5556 - val_loss: 25.7622 - val_accuracy: 0.5778\n",
            "Epoch 6/50\n",
            "4/4 [==============================] - 6s 2s/step - loss: 25.7225 - accuracy: 0.5000 - val_loss: 38.8838 - val_accuracy: 0.5778\n",
            "Epoch 7/50\n",
            "4/4 [==============================] - 6s 2s/step - loss: 23.7315 - accuracy: 0.6944 - val_loss: 40.0266 - val_accuracy: 0.6000\n",
            "Epoch 8/50\n",
            "4/4 [==============================] - 6s 1s/step - loss: 16.7220 - accuracy: 0.7254 - val_loss: 48.3839 - val_accuracy: 0.5333\n",
            "Epoch 9/50\n",
            "4/4 [==============================] - 6s 1s/step - loss: 18.5974 - accuracy: 0.5704 - val_loss: 42.1097 - val_accuracy: 0.4444\n",
            "Epoch 10/50\n",
            "4/4 [==============================] - 6s 2s/step - loss: 31.5234 - accuracy: 0.5915 - val_loss: 52.7908 - val_accuracy: 0.5556\n",
            "Epoch 11/50\n",
            "4/4 [==============================] - 6s 1s/step - loss: 29.4740 - accuracy: 0.5775 - val_loss: 41.8343 - val_accuracy: 0.4889\n",
            "Epoch 12/50\n",
            "4/4 [==============================] - 6s 1s/step - loss: 17.9793 - accuracy: 0.6620 - val_loss: 37.6330 - val_accuracy: 0.5778\n",
            "Epoch 13/50\n",
            "4/4 [==============================] - 6s 2s/step - loss: 10.3543 - accuracy: 0.7556 - val_loss: 24.1992 - val_accuracy: 0.4889\n",
            "Epoch 14/50\n",
            "4/4 [==============================] - 6s 1s/step - loss: 14.4289 - accuracy: 0.6268 - val_loss: 27.8198 - val_accuracy: 0.5556\n",
            "Epoch 15/50\n",
            "4/4 [==============================] - 6s 2s/step - loss: 10.6951 - accuracy: 0.7394 - val_loss: 25.0619 - val_accuracy: 0.6000\n",
            "Epoch 16/50\n",
            "4/4 [==============================] - 6s 2s/step - loss: 8.5675 - accuracy: 0.7042 - val_loss: 26.5042 - val_accuracy: 0.6000\n",
            "Epoch 17/50\n",
            "4/4 [==============================] - 6s 2s/step - loss: 7.4639 - accuracy: 0.7722 - val_loss: 23.3355 - val_accuracy: 0.6222\n",
            "Epoch 18/50\n",
            "4/4 [==============================] - 6s 2s/step - loss: 7.2601 - accuracy: 0.8028 - val_loss: 25.4566 - val_accuracy: 0.6667\n",
            "Epoch 19/50\n",
            "4/4 [==============================] - 6s 2s/step - loss: 5.3015 - accuracy: 0.7833 - val_loss: 15.6621 - val_accuracy: 0.6889\n",
            "Epoch 20/50\n",
            "4/4 [==============================] - 6s 2s/step - loss: 4.8118 - accuracy: 0.8239 - val_loss: 22.5300 - val_accuracy: 0.6000\n",
            "Epoch 21/50\n",
            "4/4 [==============================] - 6s 2s/step - loss: 3.4946 - accuracy: 0.8169 - val_loss: 26.7009 - val_accuracy: 0.6000\n",
            "Epoch 22/50\n",
            "4/4 [==============================] - 6s 2s/step - loss: 8.8454 - accuracy: 0.6761 - val_loss: 16.8441 - val_accuracy: 0.6667\n",
            "Epoch 23/50\n",
            "4/4 [==============================] - 6s 2s/step - loss: 4.9694 - accuracy: 0.7944 - val_loss: 21.2558 - val_accuracy: 0.6222\n",
            "Epoch 24/50\n",
            "4/4 [==============================] - 6s 2s/step - loss: 10.9054 - accuracy: 0.6831 - val_loss: 16.9362 - val_accuracy: 0.6222\n",
            "Epoch 25/50\n",
            "4/4 [==============================] - 6s 2s/step - loss: 6.9135 - accuracy: 0.7944 - val_loss: 14.9970 - val_accuracy: 0.6667\n",
            "Epoch 26/50\n",
            "4/4 [==============================] - 6s 2s/step - loss: 3.6621 - accuracy: 0.8169 - val_loss: 19.7812 - val_accuracy: 0.6444\n",
            "Epoch 27/50\n",
            "4/4 [==============================] - 6s 2s/step - loss: 2.5568 - accuracy: 0.8732 - val_loss: 15.1257 - val_accuracy: 0.5778\n",
            "Epoch 28/50\n",
            "4/4 [==============================] - 6s 2s/step - loss: 1.3601 - accuracy: 0.9000 - val_loss: 19.8468 - val_accuracy: 0.6222\n",
            "Epoch 29/50\n",
            "4/4 [==============================] - 6s 2s/step - loss: 2.6869 - accuracy: 0.8444 - val_loss: 15.0418 - val_accuracy: 0.6222\n",
            "Epoch 30/50\n",
            "4/4 [==============================] - 6s 2s/step - loss: 1.2374 - accuracy: 0.9167 - val_loss: 16.2099 - val_accuracy: 0.6222\n",
            "Epoch 31/50\n",
            "4/4 [==============================] - 6s 2s/step - loss: 0.9414 - accuracy: 0.9155 - val_loss: 15.2033 - val_accuracy: 0.6222\n",
            "Epoch 32/50\n",
            "4/4 [==============================] - 6s 1s/step - loss: 1.3391 - accuracy: 0.8944 - val_loss: 13.0898 - val_accuracy: 0.6222\n",
            "Epoch 33/50\n",
            "4/4 [==============================] - 6s 1s/step - loss: 0.5988 - accuracy: 0.9366 - val_loss: 15.1660 - val_accuracy: 0.6000\n",
            "Epoch 34/50\n",
            "4/4 [==============================] - 6s 1s/step - loss: 0.8149 - accuracy: 0.9437 - val_loss: 12.7524 - val_accuracy: 0.6889\n",
            "Epoch 35/50\n",
            "4/4 [==============================] - 6s 2s/step - loss: 3.9362 - accuracy: 0.7889 - val_loss: 22.7849 - val_accuracy: 0.6222\n",
            "Epoch 36/50\n",
            "4/4 [==============================] - 6s 1s/step - loss: 4.7671 - accuracy: 0.7465 - val_loss: 16.4667 - val_accuracy: 0.6222\n",
            "Epoch 37/50\n",
            "4/4 [==============================] - 6s 1s/step - loss: 2.7553 - accuracy: 0.8239 - val_loss: 17.5047 - val_accuracy: 0.6000\n",
            "Epoch 38/50\n",
            "4/4 [==============================] - 6s 2s/step - loss: 8.7661 - accuracy: 0.7465 - val_loss: 22.5233 - val_accuracy: 0.6889\n",
            "Epoch 39/50\n",
            "4/4 [==============================] - 6s 2s/step - loss: 8.9378 - accuracy: 0.7535 - val_loss: 15.2286 - val_accuracy: 0.6444\n",
            "Epoch 40/50\n",
            "4/4 [==============================] - 6s 1s/step - loss: 5.6660 - accuracy: 0.7958 - val_loss: 19.5550 - val_accuracy: 0.5556\n",
            "Epoch 41/50\n",
            "4/4 [==============================] - 6s 2s/step - loss: 2.9359 - accuracy: 0.8662 - val_loss: 19.5903 - val_accuracy: 0.6444\n",
            "Epoch 42/50\n",
            "4/4 [==============================] - 6s 2s/step - loss: 2.8599 - accuracy: 0.8333 - val_loss: 15.4614 - val_accuracy: 0.5778\n",
            "Epoch 43/50\n",
            "4/4 [==============================] - 5s 1s/step - loss: 1.6406 - accuracy: 0.8732 - val_loss: 15.9343 - val_accuracy: 0.6222\n",
            "Epoch 44/50\n",
            "4/4 [==============================] - 6s 2s/step - loss: 1.3435 - accuracy: 0.9014 - val_loss: 13.9358 - val_accuracy: 0.6444\n",
            "Epoch 45/50\n",
            "4/4 [==============================] - 6s 2s/step - loss: 1.0882 - accuracy: 0.9278 - val_loss: 15.3555 - val_accuracy: 0.6444\n",
            "Epoch 46/50\n",
            "4/4 [==============================] - 6s 1s/step - loss: 0.5384 - accuracy: 0.9437 - val_loss: 13.8965 - val_accuracy: 0.6222\n",
            "Epoch 47/50\n",
            "4/4 [==============================] - 6s 1s/step - loss: 0.9103 - accuracy: 0.9296 - val_loss: 15.7794 - val_accuracy: 0.6000\n",
            "Epoch 48/50\n",
            "4/4 [==============================] - 6s 1s/step - loss: 2.5029 - accuracy: 0.8380 - val_loss: 12.6038 - val_accuracy: 0.6222\n",
            "Epoch 49/50\n",
            "4/4 [==============================] - 6s 1s/step - loss: 1.7440 - accuracy: 0.8873 - val_loss: 17.4735 - val_accuracy: 0.6222\n",
            "Epoch 50/50\n",
            "4/4 [==============================] - 6s 1s/step - loss: 1.7380 - accuracy: 0.8732 - val_loss: 11.5626 - val_accuracy: 0.6667\n"
          ]
        }
      ]
    },
    {
      "cell_type": "code",
      "metadata": {
        "colab": {
          "base_uri": "https://localhost:8080/",
          "height": 412
        },
        "id": "-WN_DmjqpM42",
        "outputId": "d4f692a8-6134-4aed-dd05-36cd5cfbd693"
      },
      "source": [
        "from sklearn.metrics import classification_report, confusion_matrix\n",
        "#Confution Matrix and Classification Report\n",
        "#Confusion Matrix to show accuracy of each bucket\n",
        "Y_pred = model.predict_generator(validation_generator)\n",
        "y_pred = np.argmax(Y_pred, axis=1)\n",
        "print('Confusion Matrix')\n",
        "print(confusion_matrix(validation_generator.classes, y_pred))\n",
        "print('Classification Report')\n",
        "target_names = ['Emission', 'Planetary', 'Supernova Remnants']\n",
        "print(classification_report(validation_generator.classes, y_pred, target_names=target_names))\n"
      ],
      "execution_count": null,
      "outputs": [
        {
          "name": "stderr",
          "output_type": "stream",
          "text": [
            "/usr/local/lib/python3.7/dist-packages/keras/engine/training.py:2035: UserWarning: `Model.predict_generator` is deprecated and will be removed in a future version. Please use `Model.predict`, which supports generators.\n",
            "  warnings.warn('`Model.predict_generator` is deprecated and '\n"
          ]
        },
        {
          "name": "stdout",
          "output_type": "stream",
          "text": [
            "Confusion Matrix\n",
            "[[1 2 3 1 4]\n",
            " [0 3 4 0 4]\n",
            " [0 3 9 0 1]\n",
            " [1 5 4 0 2]\n",
            " [2 3 3 3 4]]\n",
            "Classification Report\n",
            "                    precision    recall  f1-score   support\n",
            "\n",
            "              Dark       0.25      0.09      0.13        11\n",
            "          Emission       0.19      0.27      0.22        11\n",
            "         Planetary       0.39      0.69      0.50        13\n",
            "        Reflection       0.00      0.00      0.00        12\n",
            "Supernova Remnants       0.27      0.27      0.27        15\n",
            "\n",
            "          accuracy                           0.27        62\n",
            "         macro avg       0.22      0.26      0.22        62\n",
            "      weighted avg       0.22      0.27      0.23        62\n",
            "\n"
          ]
        },
        {
          "data": {
            "application/vnd.google.colaboratory.intrinsic+json": {
              "type": "string"
            },
            "text/plain": [
              "'\\ndark - 61\\nreflection - 66\\nplanetary - 68\\nemission - 59\\nsupernova remnants - 76\\n'"
            ]
          },
          "execution_count": 23,
          "metadata": {},
          "output_type": "execute_result"
        }
      ]
    },
    {
      "cell_type": "code",
      "metadata": {
        "colab": {
          "base_uri": "https://localhost:8080/"
        },
        "id": "8y01CHOA8KSJ",
        "outputId": "539dc02e-0248-4066-ed71-601ba9d16cbb"
      },
      "source": [
        "print (train_generator.class_indices)\n"
      ],
      "execution_count": null,
      "outputs": [
        {
          "name": "stdout",
          "output_type": "stream",
          "text": [
            "{'Dark': 0, 'Emission': 1, 'Planetary': 2, 'Reflection': 3, 'Supernova Remnants': 4}\n"
          ]
        }
      ]
    },
    {
      "cell_type": "code",
      "metadata": {
        "id": "FeD9eIrmpPst"
      },
      "source": [
        "acc = history_fine.history['accuracy']\n",
        "val_acc = history_fine.history['val_accuracy']\n",
        "\n",
        "loss = history_fine.history['loss']\n",
        "val_loss = history_fine.history['val_loss']\n",
        "\n",
        "print('Training Accuracy: ', acc)\n",
        "print('Validation Accuracy: ', acc)\n",
        "print('Training Loss: ', loss)\n",
        "print('Validation Loss: ', val_loss)"
      ],
      "execution_count": null,
      "outputs": []
    },
    {
      "cell_type": "code",
      "metadata": {
        "id": "GcSd5_bDpJ0t"
      },
      "source": [
        "def create_model(base_model, num_classes):\n",
        "    # Grab the last layer and add a few extra layers to it\n",
        "    x=base_model.output\n",
        "    x=GlobalAveragePooling2D()(x)\n",
        "    # Dense layer 1\n",
        "    x=tf.keras.layers.Dense(1024,activation='relu', kernel_initializer=tf.keras.initializers.VarianceScaling, use_bias=True)(x)\n",
        "\n",
        "    #Final layer with softmax activation\n",
        "    preds=tf.keras.layers.Dense(num_classes,activation='softmax', kernel_initializer=tf.keras.initializers.VarianceScaling, use_bias=False)(x) \n",
        "    \n",
        "    # Create the final model\n",
        "    model=Model(inputs=base_model.input,outputs=preds)\n",
        "    return model"
      ],
      "execution_count": null,
      "outputs": []
    }
  ]
}