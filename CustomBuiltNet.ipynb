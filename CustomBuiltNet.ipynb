{
  "nbformat": 4,
  "nbformat_minor": 0,
  "metadata": {
    "colab": {
      "name": "CustomBuiltNet.ipynb",
      "provenance": [],
      "collapsed_sections": []
    },
    "kernelspec": {
      "name": "python3",
      "display_name": "Python 3"
    },
    "language_info": {
      "name": "python"
    }
  },
  "cells": [
    {
      "cell_type": "code",
      "metadata": {
        "colab": {
          "base_uri": "https://localhost:8080/"
        },
        "id": "w4pXpnU47sHr",
        "outputId": "7a86f7c1-47ca-431d-fc62-549abf2f55b8"
      },
      "source": [
        "\n",
        "from google.colab import drive\n",
        "drive.mount('/content/drive')\n"
      ],
      "execution_count": null,
      "outputs": [
        {
          "output_type": "stream",
          "name": "stdout",
          "text": [
            "Mounted at /content/drive\n"
          ]
        }
      ]
    },
    {
      "cell_type": "code",
      "metadata": {
        "colab": {
          "base_uri": "https://localhost:8080/",
          "height": 1000
        },
        "id": "f8PioYJP73IZ",
        "outputId": "64467a79-c966-4b08-ea3d-a6d89b7075c9"
      },
      "source": [
        "import matplotlib.pyplot as plt\n",
        "import numpy as np\n",
        "import os\n",
        "import PIL\n",
        "import tensorflow as tf\n",
        "\n",
        "from keras.applications.resnet import preprocess_input\n",
        "from keras.preprocessing.image import ImageDataGenerator\n",
        "\n",
        "from tensorflow import keras\n",
        "from tensorflow.keras import layers\n",
        "from tensorflow.keras.models import Sequential\n",
        "\n",
        "batch_size = 40\n",
        "IMG_SIZE = (180,180)\n",
        "img_height=180\n",
        "img_width=180\n",
        "\n",
        "# Create the data generation pipeline for training and validation\n",
        "train_datagen = ImageDataGenerator(preprocessing_function=preprocess_input, validation_split=0.2) # set validation split\n",
        "\n",
        "train_ds = train_datagen.flow_from_directory(PATH,\n",
        "                                                target_size=IMG_SIZE,\n",
        "                                                color_mode='rgb',\n",
        "                                                batch_size=batch_size,\n",
        "                                                class_mode='categorical',\n",
        "                                                shuffle=True,\n",
        "                                                subset = 'training')\n",
        "val_ds = train_datagen.flow_from_directory(PATH,\n",
        "                                                target_size=IMG_SIZE,\n",
        "                                                color_mode='rgb',\n",
        "                                                batch_size=batch_size,\n",
        "                                                class_mode='categorical',\n",
        "                                                shuffle=True,\n",
        "                                                subset = 'validation')\n",
        "\n",
        "\n",
        "num_classes = 3\n",
        "\n",
        "model = Sequential([\n",
        "  layers.experimental.preprocessing.Rescaling(1./255, input_shape=(img_height, img_width, 3)),\n",
        "  layers.Conv2D(16, 3, padding='same', activation='relu'),\n",
        "  layers.MaxPooling2D(),\n",
        "  layers.Conv2D(32, 3, padding='same', activation='relu'),\n",
        "  layers.MaxPooling2D(),\n",
        "  layers.Conv2D(64, 3, padding='same', activation='relu'),\n",
        "  layers.MaxPooling2D(),\n",
        "  layers.Flatten(),\n",
        "  layers.Dense(128, activation='relu'),\n",
        "  layers.Dense(num_classes, activation='softmax')\n",
        "])\n",
        "\n",
        "base_learning_rate = 0.007 #decrease for different results; use excel sheet to note down results from each change to learning rate and epochs\n",
        "opt = keras.optimizers.Adam(learning_rate=base_learning_rate)\n",
        "\n",
        "model.compile(optimizer=opt,\n",
        "              loss='categorical_crossentropy',\n",
        "              metrics=['accuracy'])\n",
        "\n",
        "model.summary()\n",
        "\n",
        "\n",
        "epochs=45\n",
        "history = model.fit(\n",
        "  train_ds,\n",
        "  validation_data=val_ds,\n",
        "  epochs=epochs\n",
        ")\n",
        "\n",
        "acc = history.history['accuracy']\n",
        "val_acc = history.history['val_accuracy']\n",
        "\n",
        "loss = history.history['loss']\n",
        "val_loss = history.history['val_loss']\n",
        "\n",
        "epochs_range = range(epochs)\n",
        "\n",
        "plt.figure(figsize=(8, 8))\n",
        "plt.subplot(1, 2, 1)\n",
        "plt.plot(epochs_range, acc, label='Training Accuracy')\n",
        "plt.plot(epochs_range, val_acc, label='Validation Accuracy')\n",
        "plt.legend(loc='lower right')\n",
        "plt.title('Training and Validation Accuracy')\n",
        "\n",
        "plt.subplot(1, 2, 2)\n",
        "plt.plot(epochs_range, loss, label='Training Loss')\n",
        "plt.plot(epochs_range, val_loss, label='Validation Loss')\n",
        "plt.legend(loc='upper right')\n",
        "plt.title('Training and Validation Loss')\n",
        "plt.show()\n"
      ],
      "execution_count": null,
      "outputs": [
        {
          "output_type": "stream",
          "name": "stdout",
          "text": [
            "Found 187 images belonging to 3 classes.\n",
            "Found 45 images belonging to 3 classes.\n",
            "Model: \"sequential_1\"\n",
            "_________________________________________________________________\n",
            " Layer (type)                Output Shape              Param #   \n",
            "=================================================================\n",
            " rescaling_1 (Rescaling)     (None, 180, 180, 3)       0         \n",
            "                                                                 \n",
            " conv2d_3 (Conv2D)           (None, 180, 180, 16)      448       \n",
            "                                                                 \n",
            " max_pooling2d_3 (MaxPooling  (None, 90, 90, 16)       0         \n",
            " 2D)                                                             \n",
            "                                                                 \n",
            " conv2d_4 (Conv2D)           (None, 90, 90, 32)        4640      \n",
            "                                                                 \n",
            " max_pooling2d_4 (MaxPooling  (None, 45, 45, 32)       0         \n",
            " 2D)                                                             \n",
            "                                                                 \n",
            " conv2d_5 (Conv2D)           (None, 45, 45, 64)        18496     \n",
            "                                                                 \n",
            " max_pooling2d_5 (MaxPooling  (None, 22, 22, 64)       0         \n",
            " 2D)                                                             \n",
            "                                                                 \n",
            " flatten_1 (Flatten)         (None, 30976)             0         \n",
            "                                                                 \n",
            " dense_2 (Dense)             (None, 128)               3965056   \n",
            "                                                                 \n",
            " dense_3 (Dense)             (None, 3)                 387       \n",
            "                                                                 \n",
            "=================================================================\n",
            "Total params: 3,989,027\n",
            "Trainable params: 3,989,027\n",
            "Non-trainable params: 0\n",
            "_________________________________________________________________\n",
            "Epoch 1/45\n",
            "5/5 [==============================] - 44s 9s/step - loss: 12.9462 - accuracy: 0.3743 - val_loss: 1.1004 - val_accuracy: 0.2889\n",
            "Epoch 2/45\n",
            "5/5 [==============================] - 11s 2s/step - loss: 1.0788 - accuracy: 0.4439 - val_loss: 1.0131 - val_accuracy: 0.4444\n",
            "Epoch 3/45\n",
            "5/5 [==============================] - 11s 2s/step - loss: 0.9319 - accuracy: 0.5722 - val_loss: 1.0089 - val_accuracy: 0.5778\n",
            "Epoch 4/45\n",
            "5/5 [==============================] - 11s 2s/step - loss: 0.9179 - accuracy: 0.6257 - val_loss: 1.0182 - val_accuracy: 0.5778\n",
            "Epoch 5/45\n",
            "5/5 [==============================] - 11s 2s/step - loss: 0.8046 - accuracy: 0.6952 - val_loss: 0.9733 - val_accuracy: 0.6000\n",
            "Epoch 6/45\n",
            "5/5 [==============================] - 11s 2s/step - loss: 0.6468 - accuracy: 0.7380 - val_loss: 0.9433 - val_accuracy: 0.6444\n",
            "Epoch 7/45\n",
            "5/5 [==============================] - 11s 2s/step - loss: 0.4938 - accuracy: 0.8289 - val_loss: 0.9618 - val_accuracy: 0.6889\n",
            "Epoch 8/45\n",
            "5/5 [==============================] - 11s 2s/step - loss: 0.4229 - accuracy: 0.8182 - val_loss: 1.0891 - val_accuracy: 0.6222\n",
            "Epoch 9/45\n",
            "5/5 [==============================] - 11s 2s/step - loss: 0.3163 - accuracy: 0.9091 - val_loss: 1.1287 - val_accuracy: 0.6222\n",
            "Epoch 10/45\n",
            "5/5 [==============================] - 11s 2s/step - loss: 0.2517 - accuracy: 0.9037 - val_loss: 1.9221 - val_accuracy: 0.6444\n",
            "Epoch 11/45\n",
            "5/5 [==============================] - 11s 2s/step - loss: 0.2559 - accuracy: 0.9198 - val_loss: 1.3638 - val_accuracy: 0.6000\n",
            "Epoch 12/45\n",
            "5/5 [==============================] - 11s 2s/step - loss: 0.2589 - accuracy: 0.9305 - val_loss: 1.2630 - val_accuracy: 0.6000\n",
            "Epoch 13/45\n",
            "5/5 [==============================] - 11s 2s/step - loss: 0.2483 - accuracy: 0.8877 - val_loss: 1.3770 - val_accuracy: 0.5556\n",
            "Epoch 14/45\n",
            "5/5 [==============================] - 11s 2s/step - loss: 0.1873 - accuracy: 0.9465 - val_loss: 1.2842 - val_accuracy: 0.6444\n",
            "Epoch 15/45\n",
            "5/5 [==============================] - 11s 2s/step - loss: 0.0890 - accuracy: 0.9733 - val_loss: 1.2653 - val_accuracy: 0.6000\n",
            "Epoch 16/45\n",
            "5/5 [==============================] - 11s 2s/step - loss: 0.0592 - accuracy: 0.9733 - val_loss: 1.4602 - val_accuracy: 0.5778\n",
            "Epoch 17/45\n",
            "5/5 [==============================] - 11s 2s/step - loss: 0.0380 - accuracy: 0.9840 - val_loss: 1.5742 - val_accuracy: 0.6000\n",
            "Epoch 18/45\n",
            "5/5 [==============================] - 11s 2s/step - loss: 0.0245 - accuracy: 0.9947 - val_loss: 1.9805 - val_accuracy: 0.6222\n",
            "Epoch 19/45\n",
            "5/5 [==============================] - 11s 2s/step - loss: 0.0165 - accuracy: 1.0000 - val_loss: 2.1819 - val_accuracy: 0.6222\n",
            "Epoch 20/45\n",
            "5/5 [==============================] - 11s 2s/step - loss: 0.0110 - accuracy: 1.0000 - val_loss: 2.4660 - val_accuracy: 0.6222\n",
            "Epoch 21/45\n",
            "5/5 [==============================] - 11s 2s/step - loss: 0.0062 - accuracy: 1.0000 - val_loss: 2.9261 - val_accuracy: 0.6222\n",
            "Epoch 22/45\n",
            "5/5 [==============================] - 11s 2s/step - loss: 0.0059 - accuracy: 1.0000 - val_loss: 2.8552 - val_accuracy: 0.6222\n",
            "Epoch 23/45\n",
            "5/5 [==============================] - 11s 2s/step - loss: 0.0028 - accuracy: 1.0000 - val_loss: 2.7036 - val_accuracy: 0.6000\n",
            "Epoch 24/45\n",
            "5/5 [==============================] - 11s 2s/step - loss: 0.0023 - accuracy: 1.0000 - val_loss: 2.7467 - val_accuracy: 0.6000\n",
            "Epoch 25/45\n",
            "5/5 [==============================] - 11s 2s/step - loss: 0.0014 - accuracy: 1.0000 - val_loss: 2.8008 - val_accuracy: 0.6000\n",
            "Epoch 26/45\n",
            "5/5 [==============================] - 11s 2s/step - loss: 0.0010 - accuracy: 1.0000 - val_loss: 2.7585 - val_accuracy: 0.6000\n",
            "Epoch 27/45\n",
            "5/5 [==============================] - 11s 2s/step - loss: 5.4611e-04 - accuracy: 1.0000 - val_loss: 2.7411 - val_accuracy: 0.5778\n",
            "Epoch 28/45\n",
            "5/5 [==============================] - 11s 2s/step - loss: 4.4116e-04 - accuracy: 1.0000 - val_loss: 2.7838 - val_accuracy: 0.5778\n",
            "Epoch 29/45\n",
            "5/5 [==============================] - 11s 2s/step - loss: 2.9835e-04 - accuracy: 1.0000 - val_loss: 2.8852 - val_accuracy: 0.5778\n",
            "Epoch 30/45\n",
            "5/5 [==============================] - 11s 2s/step - loss: 1.9650e-04 - accuracy: 1.0000 - val_loss: 2.9841 - val_accuracy: 0.5778\n",
            "Epoch 31/45\n",
            "5/5 [==============================] - 11s 2s/step - loss: 1.4643e-04 - accuracy: 1.0000 - val_loss: 3.0691 - val_accuracy: 0.5778\n",
            "Epoch 32/45\n",
            "5/5 [==============================] - 11s 2s/step - loss: 1.0790e-04 - accuracy: 1.0000 - val_loss: 3.1534 - val_accuracy: 0.5778\n",
            "Epoch 33/45\n",
            "5/5 [==============================] - 11s 2s/step - loss: 7.8767e-05 - accuracy: 1.0000 - val_loss: 3.2339 - val_accuracy: 0.5778\n",
            "Epoch 34/45\n",
            "5/5 [==============================] - 11s 2s/step - loss: 5.9411e-05 - accuracy: 1.0000 - val_loss: 3.3063 - val_accuracy: 0.5778\n",
            "Epoch 35/45\n",
            "5/5 [==============================] - 11s 2s/step - loss: 4.1580e-05 - accuracy: 1.0000 - val_loss: 3.3628 - val_accuracy: 0.5778\n",
            "Epoch 36/45\n",
            "5/5 [==============================] - 11s 2s/step - loss: 3.3427e-05 - accuracy: 1.0000 - val_loss: 3.4187 - val_accuracy: 0.5778\n",
            "Epoch 37/45\n",
            "5/5 [==============================] - 11s 2s/step - loss: 2.6854e-05 - accuracy: 1.0000 - val_loss: 3.4746 - val_accuracy: 0.5778\n",
            "Epoch 38/45\n",
            "5/5 [==============================] - 11s 2s/step - loss: 2.2877e-05 - accuracy: 1.0000 - val_loss: 3.5228 - val_accuracy: 0.5778\n",
            "Epoch 39/45\n",
            "5/5 [==============================] - 11s 2s/step - loss: 1.9401e-05 - accuracy: 1.0000 - val_loss: 3.5651 - val_accuracy: 0.5778\n",
            "Epoch 40/45\n",
            "5/5 [==============================] - 11s 2s/step - loss: 1.6331e-05 - accuracy: 1.0000 - val_loss: 3.6035 - val_accuracy: 0.5778\n",
            "Epoch 41/45\n",
            "5/5 [==============================] - 11s 2s/step - loss: 1.5087e-05 - accuracy: 1.0000 - val_loss: 3.6335 - val_accuracy: 0.5778\n",
            "Epoch 42/45\n",
            "5/5 [==============================] - 11s 2s/step - loss: 1.2870e-05 - accuracy: 1.0000 - val_loss: 3.6537 - val_accuracy: 0.5778\n",
            "Epoch 43/45\n",
            "5/5 [==============================] - 11s 2s/step - loss: 1.1829e-05 - accuracy: 1.0000 - val_loss: 3.6648 - val_accuracy: 0.5778\n",
            "Epoch 44/45\n",
            "5/5 [==============================] - 11s 2s/step - loss: 1.0922e-05 - accuracy: 1.0000 - val_loss: 3.6820 - val_accuracy: 0.5778\n",
            "Epoch 45/45\n",
            "5/5 [==============================] - 11s 2s/step - loss: 9.9020e-06 - accuracy: 1.0000 - val_loss: 3.6914 - val_accuracy: 0.5778\n"
          ]
        },
        {
          "output_type": "display_data",
          "data": {
            "image/png": "[encoded data removed]",
            "text/plain": [
              "<Figure size 576x576 with 2 Axes>"
            ]
          },
          "metadata": {
            "needs_background": "light"
          }
        }
      ]
    },
    {
      "cell_type": "code",
      "metadata": {
        "id": "ErH3bCn77vQk"
      },
      "source": [
        "\n",
        "# Please replace the brackets below with the drive location of your folder which included subfolders for images\n",
        "# Sample path: /content/drive/My Drive/ImageClassification\n",
        "PATH = '/content/drive/My Drive/NebulasWithoutDarkReflection'"
      ],
      "execution_count": null,
      "outputs": []
    },
    {
      "cell_type": "code",
      "metadata": {
        "id": "KHEMlgBQ_qK6"
      },
      "source": [
        ""
      ],
      "execution_count": null,
      "outputs": []
    },
    {
      "cell_type": "code",
      "metadata": {
        "id": "6OP-BhI07wbq"
      },
      "source": [
        ""
      ],
      "execution_count": null,
      "outputs": []
    }
  ]
}